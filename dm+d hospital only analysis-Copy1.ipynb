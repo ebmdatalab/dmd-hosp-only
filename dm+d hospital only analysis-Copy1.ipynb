{
 "cells": [
  {
   "cell_type": "markdown",
   "metadata": {},
   "source": [
    "The [NHS dictionary of medicines and devices (dm+d)](https://ebmdatalab.net/what-is-the-dmd-the-nhs-dictionary-of-medicines-and-devices/) has a flags to indicate as to whether a given item should be made available through hospital prescribing [(see tech spec of dm+d)](https://www.nhsbsa.nhs.uk/sites/default/files/2017-02/Data_Model_R2_v3.1_May_2015.pdf). We have [previously investigated some of the hospital flags](https://github.com/ebmdatalab/jupyter-notebooks/blob/3dc1f0d45173ab2dcf3156848df65e7a54be40f2/new_measures/Drafts/Hospital/Primary%20Care%20Prescribing%20of%20%20Hospital%20%20Only%20Medicines.ipynb). \n",
    "\n",
    "During our [work on zuclopenthixol](https://ebmdatalab.net/zuclopenthixol-acetate-a-new-kind-of-measure-on-openprescribing/) it became apparent that despite being a \"hospital only\" medicine, it was classified as such and is perhaps being administered inappropriately in primary care. \n",
    "\n",
    "Building on previous work this notebook sets out to explore primary care prescribing of \"hospital only\" medicines as defined by the [NHS dm+d](https://ebmdatalab.net/what-is-the-dmd-the-nhs-dictionary-of-medicines-and-devices/)\n"
   ]
  },
  {
   "cell_type": "code",
   "execution_count": 1,
   "metadata": {},
   "outputs": [],
   "source": [
    "#import libraries required for analysis\n",
    "import pandas as pd\n",
    "import numpy as np\n",
    "import matplotlib\n",
    "import matplotlib.pyplot as plt\n",
    "from ebmdatalab import bq\n",
    "from ebmdatalab import charts\n",
    "from ebmdatalab import maps"
   ]
  },
  {
   "cell_type": "code",
   "execution_count": null,
   "metadata": {},
   "outputs": [],
   "source": [
    "sql = '''\n",
    "WITH presentations_with_some_hospital_only_amps AS (\n",
    "  SELECT bnf_code\n",
    "  FROM dmd.amp\n",
    "  WHERE avail_restrict = 8 and avail_restrict !=9 AND bnf_code IS NOT NULL ##8 relates to hospital only in dmd\n",
    "  \n",
    "  UNION DISTINCT \n",
    "  \n",
    "  SELECT vmp.bnf_code\n",
    "  FROM dmd.vmp\n",
    "  INNER JOIN dmd.amp\n",
    "    ON vmp.id = amp.vmp\n",
    "  WHERE amp.avail_restrict = 8 AND vmp.bnf_code IS NOT NULL\n",
    ")\n",
    "\n",
    "SELECT\n",
    "  pct,\n",
    "  month,\n",
    "  presentation AS bnf_name,\n",
    "  bnf_code,\n",
    "  SUM(items) AS total_items,\n",
    "  SUM(actual_cost) AS total_cost\n",
    "FROM\n",
    "  hscic.normalised_prescribing_standard AS rx\n",
    "INNER JOIN\n",
    "  hscic.ccgs\n",
    "ON\n",
    "  rx.pct = ccgs.code\n",
    "INNER JOIN\n",
    "  hscic.bnf\n",
    "ON\n",
    "  rx.bnf_code = bnf.presentation_code\n",
    "WHERE\n",
    "  org_type = 'CCG'\n",
    "  AND bnf_code IN (SELECT bnf_code FROM presentations_with_some_hospital_only_amps) \n",
    "GROUP BY\n",
    "  pct,\n",
    "  month,\n",
    "  bnf_code,\n",
    "  bnf_name\n",
    "ORDER BY\n",
    "  pct,\n",
    "  month,\n",
    "  bnf_code'''\n",
    "\n",
    "\n",
    "df_hospital = bq.cached_read(sql, csv_path='data/df_hospital1.csv', use_cache=True)\n",
    "df_hospital['month'] = df_hospital['month'].astype('datetime64[ns]')\n",
    "df_hospital.head()"
   ]
  },
  {
   "cell_type": "code",
   "execution_count": null,
   "metadata": {},
   "outputs": [],
   "source": [
    "df_hospital.nunique()"
   ]
  },
  {
   "cell_type": "code",
   "execution_count": null,
   "metadata": {},
   "outputs": [],
   "source": [
    "df_hospital[\"bnf_name\"].unique()"
   ]
  },
  {
   "cell_type": "markdown",
   "metadata": {},
   "source": [
    "There are 290 unique names but at a glance they seem to be overwhelmingly what we would expect to be \"hospital only\" medicines. However many are for iv antibiotics and some other medicines where some areas have pioneered the use of specialist communiyt teams to adminster medicines in a patients own home to avoid a hospital admission. These may no longer be truly \"hospital only\"."
   ]
  },
  {
   "cell_type": "code",
   "execution_count": null,
   "metadata": {},
   "outputs": [],
   "source": [
    "##groupby bnf name  to see \"biggest offenders\" in terms of items\n",
    "df_product = df_hospital.groupby(['bnf_code', 'bnf_name']).sum().sort_values(by = 'total_items', ascending = False).reset_index()\n",
    "df_product.head(25)"
   ]
  },
  {
   "cell_type": "markdown",
   "metadata": {},
   "source": [
    "Some comments\n",
    "- desogesterel is definitely not a hospital only medicine. It is a commonly used contraceptive. The [brand Moonia](https://openprescribing.net/dmd/amp/36546611000001102/) has been classed as hospital only and affects the figures.\n",
    "- Clonazepam would not be considered a \"hospital only\" medicine. Reviewing dm+d it appears that a [product by Star Pharmaceuticals](https://openprescribing.net/dmd/advanced-search/amp/?search=%5B%22and%22%2C%5B%5B%22nm%22%2C%22contains%22%2C%22clonazep%22%5D%2C%5B%22avail_restrict%22%2C%22equal%22%2C%228%22%5D%5D%5D) has been designated \"hospital only\" while all other clonazepam products are not. I can't find the SPC for Star Pharmaceutical to see if there is some licnese difference but it is likely that this is a misclassification.\n",
    "- Colistimeth Sod: This is used iv but also inhaled in treatment of lung infections particularly Cystic Fibrosis. [NHS England states](https://www.england.nhs.uk/wp-content/uploads/2019/04/nhs-england-drugs-list-v14.1.pdf) that when used for treatment of infections related to Cystic Fibrosis it is suiatable for shared care i.e. a GP could prescribe on FP10. \n",
    "Reviewing the [\tColistimethate 1million unit powder for solution for injection vials](https://openprescribing.net/dmd/vmp/324311004/)  AMPs more closely we find differences in the designations dependent on product. \n",
    "\n",
    "| AMP  | Hospital Only   |\n",
    "|------|-----------------|\n",
    "| [Colomycin](https://openprescribing.net/dmd/amp/3108611000001108/)*| No|\n",
    "|[Promixin](https://openprescribing.net/dmd/amp/4658711000001106/) | Yes|\n",
    "|[Kent Pharm](https://openprescribing.net/dmd/amp/17652211000001105/) | Yes|\n",
    "|[AAH](https://openprescribing.net/dmd/amp/18758011000001102/)** | No |\n",
    "\n",
    "        *The IV produc also has a license to be used by inhalation\n",
    "        ** Most likely a make believe wholesaler product\n",
    "    \n",
    "- Antibiotics: The list is mainly antibiotics or palliatve care medicines. We do see these medicines in the community nowadays as the NHS seeks to keep people out of hospital. Potentially it is inapprorpriate to label these medicines \"hospital only\".\n",
    "\n",
    "**Conclusion**\n",
    "1 - We must investigate which products that are \"mixed\" i.e. should be excluded as it looks like an error in classification e.g. clonazepam and which should be retained for analysis as there is possibly a reason why AMPs differ e.g. colistin\n",
    "\n",
    "\n"
   ]
  },
  {
   "cell_type": "code",
   "execution_count": null,
   "metadata": {},
   "outputs": [],
   "source": [
    "sql = '''WITH s AS (\n",
    "  SELECT bnf_code, nm, avail_restrict\n",
    "  FROM dmd.amp\n",
    "  WHERE avail_restrict != 9 AND bnf_code IS NOT NULL\n",
    "\n",
    "  UNION DISTINCT\n",
    "\n",
    "  SELECT vmp.bnf_code, vmp.nm, amp.avail_restrict\n",
    "  FROM dmd.vmp\n",
    "  INNER JOIN dmd.amp\n",
    "    ON vmp.id = amp.vmp\n",
    "  WHERE amp.avail_restrict != 9 AND vmp.bnf_code IS NOT NULL\n",
    "\n",
    "  ORDER BY bnf_code\n",
    ")\n",
    "\n",
    "SELECT bnf_code, nm,  hospital_only, COUNT(*) AS c\n",
    "FROM (\n",
    "  SELECT\n",
    "    bnf_code,\n",
    "    nm,\n",
    "    CASE COUNT(CASE WHEN avail_restrict = 8 THEN 1 ELSE NULL END)\n",
    "    WHEN 0 THEN \"Not hospital only\"\n",
    "    WHEN COUNT(*) THEN \"Hospital only\"\n",
    "    ELSE \"Mixture\"\n",
    "    END AS hospital_only\n",
    "  FROM\n",
    "    s\n",
    "  WHERE\n",
    "    avail_restrict != 9 AND\n",
    "    bnf_code IS NOT NULL    \n",
    "  GROUP BY\n",
    "    bnf_code, nm\n",
    "  ORDER BY\n",
    "    bnf_code\n",
    ") WHERE hospital_only = \"Mixture\"\n",
    "GROUP BY hospital_only, bnf_code, nm\n",
    "ORDER BY bnf_code'''\n",
    "\n",
    "df_mixed = bq.cached_read(sql, csv_path='data/df_mixed1.csv', use_cache=True)\n",
    "pd.set_option('display.max_rows', None) \n",
    "df_mixed"
   ]
  },
  {
   "cell_type": "markdown",
   "metadata": {},
   "source": [
    "On reviewing this list for the vast majority of products it makes no sense why one AMP would be \"hospital only\" and why another is not. These are probably inconsistencies as companies and the not NHS controls what is \"hospital only\". We should send this to BSA to support their review processes."
   ]
  },
  {
   "cell_type": "markdown",
   "metadata": {},
   "source": [
    "To continue our analyis let us manually filter the preparations that are obviously not (based on clinical experience) \"hospital only\" from df_product"
   ]
  },
  {
   "cell_type": "code",
   "execution_count": null,
   "metadata": {},
   "outputs": [],
   "source": [
    "#'this is the list'\n",
    "names = [\"Clonazepam_Tab 500mcg\", \"Clonazepam_Tab 2mg\", \"Desogestrel_Tab 75mcg\", \"Tadalafil_Tab 20mg\", \"Clonazepam_Tab 2mg\", \"Ondansetron HCl_Tab 8mg\"]\n",
    "\n"
   ]
  },
  {
   "cell_type": "code",
   "execution_count": null,
   "metadata": {},
   "outputs": [],
   "source": [
    "## let us drop clonazepam before we proceed\n",
    "#df_filtered = df_hospital[df_hospital[\"bnf_name\"].str.contains(names) == False].sort_values(\"bnf_name\")\n",
    "df_filtered = df_hospital[~df_hospital['bnf_name'].isin(names)]\n",
    "df_filtered.head()\n"
   ]
  },
  {
   "cell_type": "code",
   "execution_count": null,
   "metadata": {
    "scrolled": true
   },
   "outputs": [],
   "source": [
    "##here we plot trend over time.\n",
    "df_filtered.groupby(\"month\")['total_cost'].sum().plot(kind='line', title=\"Total cost of dm+d hospital only medicines prescribing\")\n",
    "plt.ylim(0, )"
   ]
  },
  {
   "cell_type": "markdown",
   "metadata": {},
   "source": [
    "In 2016 there was a substanitial drop and now the costs are approximatelt £270k per month."
   ]
  },
  {
   "cell_type": "markdown",
   "metadata": {},
   "source": [
    "## Infrequently prescribed\n",
    "Frequently prescribed items are probably not truly \"hospital only\" medicines anymore. We are interested in infrequently prescribed medicines that are \"hospital only\" and possibly a mistake. We highlighted some of this in our [zuclopenthixol blog](https://ebmdatalab.net/zuclopenthixol-acetate-a-new-kind-of-measure-on-openprescribing/) and Callum's [high dose dexamethaone blog](https://ebmdatalab.net/opendemocratisation-of-data-guest-blog-high-dose-dexamethasone/) where things aren't flagged as \"hospital only\" but probably are. Let us set the threshold of items in a year as similar (but arbitrary) to zuclopenthixol at 75 "
   ]
  },
  {
   "cell_type": "code",
   "execution_count": null,
   "metadata": {},
   "outputs": [],
   "source": [
    "infreq = df_filtered.loc[(df_filtered['month'] >= '2018-11-01') & (df_filtered['month'] <= '2019-10-01')] ##restrict to last 12 months\n",
    "\n"
   ]
  },
  {
   "cell_type": "code",
   "execution_count": null,
   "metadata": {},
   "outputs": [],
   "source": [
    "infreq2 = infreq.groupby([\"bnf_name\", \"bnf_code\"]).sum().sort_values('total_items', ascending=True).reset_index() ##group and sort by items\n",
    "infreq2.to_csv(\"data/infreq_hosponly1.csv\") ## export to csv for anyone for further investigation/emailing to interested folks\n"
   ]
  },
  {
   "cell_type": "code",
   "execution_count": null,
   "metadata": {},
   "outputs": [],
   "source": [
    "## Now lets restict to 75 as per rationale above\n",
    "inf_hosp_only = infreq2.loc[(infreq2['total_items'] < 75)]\n",
    "pd.set_option('display.max_rows', None) \n",
    "inf_hosp_only"
   ]
  },
  {
   "cell_type": "markdown",
   "metadata": {},
   "source": [
    "In the last year there are quite a few medicines that I have never heard of, that seem more suitable for secondary care but are being prescribed by practices. This is possible for rare unique cases although we must be mindful for errors abd this requires further investigation. For example is there any circumstance where a GP would prescribe _Rapifen Intensive Care_ which is a powerful opioid? Enbrel cost over £100k in primary care - this should be supplied through secondary care to avail of discounts? "
   ]
  },
  {
   "cell_type": "markdown",
   "metadata": {},
   "source": [
    "## Prototype Measure and Maps"
   ]
  },
  {
   "cell_type": "code",
   "execution_count": null,
   "metadata": {},
   "outputs": [],
   "source": [
    "##get list size info for a measure per 1000 patients\n",
    "sql2 = \"\"\"\n",
    "SELECT month, \n",
    "pct_id AS pct,\n",
    "AVG(total_list_size) AS list_size\n",
    "FROM ebmdatalab.hscic.practice_statistics\n",
    "group by \n",
    "month, pct\n",
    "order by\n",
    "month, pct,\n",
    "list_size\n",
    "\"\"\"\n",
    "df_list = bq.cached_read(sql2, csv_path='data/listsize1.csv')\n",
    "df_list['month'] = df_list['month'].astype('datetime64[ns]')\n",
    "df_list.head(5)"
   ]
  },
  {
   "cell_type": "code",
   "execution_count": null,
   "metadata": {},
   "outputs": [],
   "source": [
    "ccg_total_hosp = df_filtered.groupby([\"month\", \"pct\"])[\"total_items\",\"total_cost\"].sum().reset_index()\n",
    "ccg_total_hosp.head()"
   ]
  },
  {
   "cell_type": "code",
   "execution_count": null,
   "metadata": {},
   "outputs": [],
   "source": [
    "x = df_filtered.groupby([\"month\", \"pct\", \"bnf_name\", \"bnf_code\"])[\"total_items\",\"total_cost\"].sum().reset_index()\n",
    "x.head()"
   ]
  },
  {
   "cell_type": "code",
   "execution_count": null,
   "metadata": {},
   "outputs": [],
   "source": [
    "#merge dataframes and cost / 10000\n",
    "\n",
    "hosp_df_1000 = pd.merge(ccg_total_hosp, df_list, on=['month', 'pct'])\n",
    "hosp_df_1000['cost_per_1000'] = 1000* (hosp_df_1000['total_cost']/hosp_df_1000['list_size'])\n",
    "hosp_df_1000['items_per_1000'] = 1000* (hosp_df_1000['total_items']/hosp_df_1000['list_size'])\n",
    "hosp_df_1000.head(5)"
   ]
  },
  {
   "cell_type": "code",
   "execution_count": null,
   "metadata": {},
   "outputs": [],
   "source": [
    "#create sample deciles & prototype measure\n",
    "charts.deciles_chart(\n",
    "        hosp_df_1000,\n",
    "        period_column='month',\n",
    "        column='cost_per_1000',\n",
    "        title=\"Hosp cost per 1000\",\n",
    "        show_outer_percentiles=False)\n",
    "\n",
    "#add in example CCG (Islington)\n",
    "df_subject = hosp_df_1000.loc[hosp_df_1000['pct'] == '08H']\n",
    "plt.plot(df_subject['month'], df_subject['cost_per_1000'], 'r--')\n",
    "\n",
    "plt.show()"
   ]
  },
  {
   "cell_type": "code",
   "execution_count": null,
   "metadata": {},
   "outputs": [],
   "source": [
    "#create sample deciles & prototype measure\n",
    "charts.deciles_chart(\n",
    "        hosp_df_1000,\n",
    "        period_column='month',\n",
    "        column='items_per_1000',\n",
    "        title=\"Hosp items per 1000\",\n",
    "        show_outer_percentiles=False)\n",
    "\n",
    "#add in example CCG (Islington)\n",
    "df_subject = hosp_df_1000.loc[hosp_df_1000['pct'] == '08H']\n",
    "plt.plot(df_subject['month'], df_subject['items_per_1000'], 'r--')\n",
    "\n",
    "plt.show()"
   ]
  },
  {
   "cell_type": "markdown",
   "metadata": {},
   "source": [
    "This will require further thought and discussion with users before deploying a measure due to noise of  antibiotics etc. Potentially we could deploy a measure on the noise is excluded?"
   ]
  },
  {
   "cell_type": "code",
   "execution_count": null,
   "metadata": {},
   "outputs": [],
   "source": [
    "#create choropeth map of cost per 1000 patients\n",
    "plt.figure(figsize=(12, 7))\n",
    "latest_hosp_df_1000 = hosp_df_1000.loc[(hosp_df_1000['month'] >= '2019-04-01') & (hosp_df_1000['month'] <= '2019-10-01')]\n",
    "plt = maps.ccg_map(latest_hosp_df_1000, title=\"Hosp Cost per 1000 patients \\n Apr - Oct 2019 \", column='cost_per_1000', separate_london=True)\n",
    "plt.show()"
   ]
  },
  {
   "cell_type": "code",
   "execution_count": null,
   "metadata": {},
   "outputs": [],
   "source": [
    "# CCGs may like to investigate further so lets produce a file for each of them.\n",
    "# here we create a dataframe csv files for each CCG to investigate further if they wish - these are now available on GitHub\n",
    "\n",
    "ccg_investigate = df_filtered.groupby([\"month\", \"pct\", \"bnf_name\", \"bnf_code\"])[\"total_items\",\"total_cost\"].sum().reset_index()\n"
   ]
  },
  {
   "cell_type": "code",
   "execution_count": null,
   "metadata": {},
   "outputs": [],
   "source": [
    "#here we create the csv in a folder\n",
    "    \n",
    "    \n",
    "        \n",
    "for ccg_id, ccg_df in ccg_investigate.groupby('pct'):\n",
    "     ccg_df.to_csv('ccg-data-for-review\\{}.csv'.format(ccg_id), index=False)"
   ]
  },
  {
   "cell_type": "markdown",
   "metadata": {},
   "source": [
    "## Electronic Health Records (EHR)"
   ]
  },
  {
   "cell_type": "markdown",
   "metadata": {},
   "source": [
    "Our recent work has show prescribing has an effect on prescribing. Theroretically EHRs could be configured to prevent \"hospital only\" prescribing. Indeed they may be configured this way already. Here we investigate atterns as per EHR vendor."
   ]
  },
  {
   "cell_type": "code",
   "execution_count": null,
   "metadata": {},
   "outputs": [],
   "source": [
    "sql = \"\"\"\n",
    "SELECT\n",
    "rx.month,\n",
    "TRIM(Principal_Supplier) AS supplier,\n",
    "rx.bnf_name,\n",
    "rx.bnf_code,\n",
    "SUM(items) AS total_items,\n",
    "SUM(actual_cost) AS total_cost\n",
    "FROM\n",
    " hscic.normalised_prescribing_standard AS rx\n",
    " JOIN (SELECT DISTINCT bnf_code \n",
    "  FROM ebmdatalab.dmd.amp\n",
    "  WHERE avail_restrict = 8 AND bnf_code != '0408010F0AAABAB' AND ##clonazepam\n",
    "bnf_code != '0408010F0AAACAC') AS dmd ##clonazepam\n",
    "ON\n",
    "  rx.bnf_code = dmd.bnf_code\n",
    "JOIN\n",
    "  hscic.ccgs AS ccgs\n",
    "ON\n",
    "  rx.pct=ccgs.code\n",
    "JOIN\n",
    "  alex.vendors AS software\n",
    "ON\n",
    "  software.ODS = rx.practice\n",
    "  AND date(software.Date) = date(rx.month)\n",
    "GROUP BY\n",
    "rx.month,\n",
    "supplier,\n",
    "rx.bnf_name,\n",
    "rx.bnf_code\n",
    "ORDER BY\n",
    "month\"\"\"\n",
    "\n",
    "\n",
    "\n",
    "df_ehr_hosp = bq.cached_read(sql, csv_path='data/df_ehr_hosp1.csv')\n",
    "df_ehr_hosp['month'] = df_ehr_hosp['month'].astype('datetime64[ns]')\n",
    "df_ehr_hosp.head(3)"
   ]
  },
  {
   "cell_type": "code",
   "execution_count": null,
   "metadata": {},
   "outputs": [],
   "source": [
    "sql = '''\n",
    "WITH presentations_with_some_hospital_only_amps AS (\n",
    "  SELECT bnf_code\n",
    "  FROM dmd.amp\n",
    "  WHERE avail_restrict = 8 and avail_restrict !=9 AND bnf_code IS NOT NULL ##8 relates to hospital only in dmd\n",
    "  \n",
    "  UNION DISTINCT \n",
    "  \n",
    "  SELECT vmp.bnf_code\n",
    "  FROM dmd.vmp\n",
    "  INNER JOIN dmd.amp\n",
    "    ON vmp.id = amp.vmp\n",
    "  WHERE amp.avail_restrict = 8 AND vmp.bnf_code IS NOT NULL\n",
    ")\n",
    "\n",
    "SELECT\n",
    "  TRIM(Principal_Supplier) AS supplier,\n",
    "  month,\n",
    "  presentation AS bnf_name,\n",
    "  bnf_code,\n",
    "  SUM(items) AS total_items,\n",
    "  SUM(actual_cost) AS total_cost\n",
    "FROM\n",
    "  hscic.normalised_prescribing_standard AS rx\n",
    "INNER JOIN\n",
    "  hscic.ccgs\n",
    "ON\n",
    "  rx.pct = ccgs.code\n",
    "INNER JOIN\n",
    "  hscic.bnf\n",
    "ON\n",
    "  rx.bnf_code = bnf.presentation_code\n",
    "INNER JOIN\n",
    "  alex.vendors AS software\n",
    "ON\n",
    "  software.ODS = rx.practice\n",
    "  AND date(software.Date) = date(rx.month)\n",
    "WHERE\n",
    "  org_type = 'CCG'\n",
    "  AND bnf_code IN (SELECT bnf_code FROM presentations_with_some_hospital_only_amps) \n",
    "  AND bnf_code NOT LIKE \"0703021Q0AA%\" #desogestrel\n",
    "  AND bnf_code NOT LIKE \"0408010F0AA%\" #clonazepam \n",
    "  AND bnf_code NOT LIKE \"0704050R0AA%\" #tadalafil\n",
    "  AND bnf_code NOT LIKE \"0406000S0AA%\" #ondansetron\n",
    "GROUP BY\n",
    "  supplier,\n",
    "  month,\n",
    "  bnf_code,\n",
    "  bnf_name\n",
    "ORDER BY\n",
    "  supplier,\n",
    "  month,\n",
    "  bnf_code\n",
    "'''\n",
    "\n",
    "\n",
    "df_ehr_hosp_only = bq.cached_read(sql, csv_path='data/df_ehr_hosp_only1.csv', use_cache=True)\n",
    "df_ehr_hosp_only['month'] = df_ehr_hosp_only['month'].astype('datetime64[ns]')\n",
    "df_ehr_hosp_only.head()"
   ]
  },
  {
   "cell_type": "code",
   "execution_count": null,
   "metadata": {},
   "outputs": [],
   "source": [
    "##groupby bnf name  to see \"biggest offenders\" in terms of items\n",
    "df_product_ehr = df_ehr_hosp_only.groupby(['bnf_code', 'bnf_name']).sum().sort_values(by = 'total_items', ascending = False)\n",
    "df_product_ehr"
   ]
  },
  {
   "cell_type": "code",
   "execution_count": null,
   "metadata": {},
   "outputs": [],
   "source": [
    "df_ehr_hosp_only.groupby(['month', 'supplier']).sum()['total_items'].unstack().plot.line()\n",
    "plt.legend(loc=(1.04,0))\n",
    "plt.title(\"total hosp only items per EHR vendor\")"
   ]
  },
  {
   "cell_type": "markdown",
   "metadata": {},
   "source": [
    "There is no striking trend and we only have EHR data since 2016. We should speak to EHR vendors, nerds and NHS Digital about this. We should have a look at user interface to support further work around EHR/dm+d."
   ]
  },
  {
   "cell_type": "code",
   "execution_count": null,
   "metadata": {},
   "outputs": [],
   "source": []
  }
 ],
 "metadata": {
  "kernelspec": {
   "display_name": "Python 3",
   "language": "python",
   "name": "python3"
  },
  "language_info": {
   "codemirror_mode": {
    "name": "ipython",
    "version": 3
   },
   "file_extension": ".py",
   "mimetype": "text/x-python",
   "name": "python",
   "nbconvert_exporter": "python",
   "pygments_lexer": "ipython3",
   "version": "3.6.10"
  }
 },
 "nbformat": 4,
 "nbformat_minor": 2
}
